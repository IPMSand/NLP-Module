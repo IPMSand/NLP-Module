{
  "nbformat": 4,
  "nbformat_minor": 0,
  "metadata": {
    "colab": {
      "provenance": [],
      "authorship_tag": "ABX9TyOyd9QKEWIz1AFkRtTDkVcn",
      "include_colab_link": true
    },
    "kernelspec": {
      "name": "python3",
      "display_name": "Python 3"
    },
    "language_info": {
      "name": "python"
    }
  },
  "cells": [
    {
      "cell_type": "markdown",
      "metadata": {
        "id": "view-in-github",
        "colab_type": "text"
      },
      "source": [
        "<a href=\"https://colab.research.google.com/github/IPMSand/NLP-Module/blob/main/Lecture27_09_2025.ipynb\" target=\"_parent\"><img src=\"https://colab.research.google.com/assets/colab-badge.svg\" alt=\"Open In Colab\"/></a>"
      ]
    },
    {
      "cell_type": "markdown",
      "source": [
        "# POS Tag"
      ],
      "metadata": {
        "id": "mG9gdB2fKVyL"
      }
    },
    {
      "cell_type": "code",
      "execution_count": 2,
      "metadata": {
        "id": "XFxJGoK6Ijac"
      },
      "outputs": [],
      "source": [
        "import nltk\n",
        "from nltk import pos_tag, word_tokenize\n",
        "from nltk.corpus import stopwords\n",
        "import matplotlib.pyplot as plt\n",
        "import seaborn as sns"
      ]
    },
    {
      "cell_type": "code",
      "source": [
        "# Download NLTK resources\n",
        "nltk.download('punkt') # Ensure 'punkt' is downloaded\n",
        "nltk.download('averaged_perceptron_tagger')\n",
        "nltk.download('averaged_perceptron_tagger_eng') # Download the specific eng tagger\n",
        "nltk.download('punkt_tab') # cuz' there was a error saying to download this"
      ],
      "metadata": {
        "colab": {
          "base_uri": "https://localhost:8080/"
        },
        "id": "Jd3tM-WHI9mH",
        "outputId": "4cf2f282-758f-449f-80e4-4fbab61385c8"
      },
      "execution_count": 8,
      "outputs": [
        {
          "output_type": "stream",
          "name": "stderr",
          "text": [
            "[nltk_data] Downloading package punkt to /root/nltk_data...\n",
            "[nltk_data]   Package punkt is already up-to-date!\n",
            "[nltk_data] Downloading package averaged_perceptron_tagger to\n",
            "[nltk_data]     /root/nltk_data...\n",
            "[nltk_data]   Package averaged_perceptron_tagger is already up-to-\n",
            "[nltk_data]       date!\n",
            "[nltk_data] Downloading package averaged_perceptron_tagger_eng to\n",
            "[nltk_data]     /root/nltk_data...\n",
            "[nltk_data]   Unzipping taggers/averaged_perceptron_tagger_eng.zip.\n",
            "[nltk_data] Downloading package punkt_tab to /root/nltk_data...\n",
            "[nltk_data]   Package punkt_tab is already up-to-date!\n"
          ]
        },
        {
          "output_type": "execute_result",
          "data": {
            "text/plain": [
              "True"
            ]
          },
          "metadata": {},
          "execution_count": 8
        }
      ]
    },
    {
      "cell_type": "code",
      "source": [
        "text = \"I love Python programming and I enjoy coding in Python\"\n",
        "\n",
        "tokens = word_tokenize(text)\n",
        "tags = pos_tag(tokens)\n",
        "print(tags)\n",
        "\n",
        "# Extracts only tags\n",
        "pos_counts ={}\n",
        "for word,tag in tags:\n",
        "  if tag in pos_counts.keys():\n",
        "    pos_counts[tag] += 1\n",
        "  else:\n",
        "    pos_counts[tag] = 1\n",
        "\n",
        "print(pos_counts)"
      ],
      "metadata": {
        "colab": {
          "base_uri": "https://localhost:8080/"
        },
        "id": "Oxz3TMOmJYH4",
        "outputId": "a6f418be-0607-4cc2-ef0b-7c4455eb3252"
      },
      "execution_count": 9,
      "outputs": [
        {
          "output_type": "stream",
          "name": "stdout",
          "text": [
            "[('I', 'PRP'), ('love', 'VBP'), ('Python', 'NNP'), ('programming', 'NN'), ('and', 'CC'), ('I', 'PRP'), ('enjoy', 'VBP'), ('coding', 'VBG'), ('in', 'IN'), ('Python', 'NNP')]\n",
            "{'PRP': 2, 'VBP': 2, 'NNP': 2, 'NN': 1, 'CC': 1, 'VBG': 1, 'IN': 1}\n"
          ]
        }
      ]
    },
    {
      "cell_type": "code",
      "source": [],
      "metadata": {
        "id": "-R3and9EJv-K"
      },
      "execution_count": null,
      "outputs": []
    }
  ]
}