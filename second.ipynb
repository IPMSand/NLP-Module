{
  "nbformat": 4,
  "nbformat_minor": 0,
  "metadata": {
    "colab": {
      "provenance": [],
      "toc_visible": true,
      "authorship_tag": "ABX9TyPkXXleLYR5TcLJyzogah2c",
      "include_colab_link": true
    },
    "kernelspec": {
      "name": "python3",
      "display_name": "Python 3"
    },
    "language_info": {
      "name": "python"
    }
  },
  "cells": [
    {
      "cell_type": "markdown",
      "metadata": {
        "id": "view-in-github",
        "colab_type": "text"
      },
      "source": [
        "<a href=\"https://colab.research.google.com/github/IPMSand/NLP-Module/blob/main/second.ipynb\" target=\"_parent\"><img src=\"https://colab.research.google.com/assets/colab-badge.svg\" alt=\"Open In Colab\"/></a>"
      ]
    },
    {
      "cell_type": "markdown",
      "source": [
        "# matplotlib\n"
      ],
      "metadata": {
        "id": "PDhTLa8TlHJc"
      }
    },
    {
      "cell_type": "code",
      "execution_count": null,
      "metadata": {
        "id": "Frn_Hni6TKcR"
      },
      "outputs": [],
      "source": [
        "import nltk\n",
        "import pandas as pd\n",
        "import matplotlib.pyplot as plt\n",
        "from wordcloud import WordCloud\n",
        "from nltk.tokenize import word_tokenize, sent_tokenize\n",
        "from collections import Counter"
      ]
    },
    {
      "cell_type": "code",
      "source": [
        "# -----\n",
        "# 1.Load Dataset\n",
        "#-----\n",
        "# Load with correct encoding (latin1 avoid Unicode errors)\n",
        "text_dataset = pd.read_csv(\"/content/multilingual_mobile_app_reviews_2025.csv\", encoding = 'latin1')\n",
        "text_dataset['review_text']"
      ],
      "metadata": {
        "colab": {
          "base_uri": "https://localhost:8080/",
          "height": 458
        },
        "id": "vAaJW-LaTxfF",
        "outputId": "f2d23a4b-32b8-4f72-fd5b-b1ae057b36c6"
      },
      "execution_count": null,
      "outputs": [
        {
          "output_type": "execute_result",
          "data": {
            "text/plain": [
              "0       Qui doloribus consequuntur. Perspiciatis tempo...\n",
              "1       Great app but too many ads, consider premium v...\n",
              "2       The interface could be better but overall good...\n",
              "3       Latest update broke some features, please fix ...\n",
              "4       Perfect for daily use, highly recommend to eve...\n",
              "                              ...                        \n",
              "2509    Ð¡ÑÐ°ÑÑÑÐµ Ð½Ð¸Ð·ÐºÐ¸Ð¹ Ð¿Ð°ÑÑÑÑ\n",
              ". ÐÐ¾...\n",
              "2510    This app is amazing! Really love the new featu...\n",
              "2511    This app is amazing! Really love the new featu...\n",
              "2512    Invitare convincere pericoloso corsa fortuna. ...\n",
              "2513    Latest update broke some features, please fix ...\n",
              "Name: review_text, Length: 2514, dtype: object"
            ],
            "text/html": [
              "<div>\n",
              "<style scoped>\n",
              "    .dataframe tbody tr th:only-of-type {\n",
              "        vertical-align: middle;\n",
              "    }\n",
              "\n",
              "    .dataframe tbody tr th {\n",
              "        vertical-align: top;\n",
              "    }\n",
              "\n",
              "    .dataframe thead th {\n",
              "        text-align: right;\n",
              "    }\n",
              "</style>\n",
              "<table border=\"1\" class=\"dataframe\">\n",
              "  <thead>\n",
              "    <tr style=\"text-align: right;\">\n",
              "      <th></th>\n",
              "      <th>review_text</th>\n",
              "    </tr>\n",
              "  </thead>\n",
              "  <tbody>\n",
              "    <tr>\n",
              "      <th>0</th>\n",
              "      <td>Qui doloribus consequuntur. Perspiciatis tempo...</td>\n",
              "    </tr>\n",
              "    <tr>\n",
              "      <th>1</th>\n",
              "      <td>Great app but too many ads, consider premium v...</td>\n",
              "    </tr>\n",
              "    <tr>\n",
              "      <th>2</th>\n",
              "      <td>The interface could be better but overall good...</td>\n",
              "    </tr>\n",
              "    <tr>\n",
              "      <th>3</th>\n",
              "      <td>Latest update broke some features, please fix ...</td>\n",
              "    </tr>\n",
              "    <tr>\n",
              "      <th>4</th>\n",
              "      <td>Perfect for daily use, highly recommend to eve...</td>\n",
              "    </tr>\n",
              "    <tr>\n",
              "      <th>...</th>\n",
              "      <td>...</td>\n",
              "    </tr>\n",
              "    <tr>\n",
              "      <th>2509</th>\n",
              "      <td>Ð¡ÑÐ°ÑÑÑÐµ Ð½Ð¸Ð·ÐºÐ¸Ð¹ Ð¿Ð°ÑÑÑÑ. ÐÐ¾...</td>\n",
              "    </tr>\n",
              "    <tr>\n",
              "      <th>2510</th>\n",
              "      <td>This app is amazing! Really love the new featu...</td>\n",
              "    </tr>\n",
              "    <tr>\n",
              "      <th>2511</th>\n",
              "      <td>This app is amazing! Really love the new featu...</td>\n",
              "    </tr>\n",
              "    <tr>\n",
              "      <th>2512</th>\n",
              "      <td>Invitare convincere pericoloso corsa fortuna. ...</td>\n",
              "    </tr>\n",
              "    <tr>\n",
              "      <th>2513</th>\n",
              "      <td>Latest update broke some features, please fix ...</td>\n",
              "    </tr>\n",
              "  </tbody>\n",
              "</table>\n",
              "<p>2514 rows × 1 columns</p>\n",
              "</div><br><label><b>dtype:</b> object</label>"
            ]
          },
          "metadata": {},
          "execution_count": 28
        }
      ]
    },
    {
      "cell_type": "code",
      "source": [
        "# Word Cloud and Barchart ---> import matpotlib --->code slide\n",
        "# Bytes level algo/tokenizing Find the algorithem for this and code it ?"
      ],
      "metadata": {
        "id": "XUqtwtveXR27"
      },
      "execution_count": null,
      "outputs": []
    },
    {
      "cell_type": "markdown",
      "source": [
        "# Byte Level"
      ],
      "metadata": {
        "id": "mjSaFA3KirzE"
      }
    },
    {
      "cell_type": "code",
      "source": [],
      "metadata": {
        "id": "nJvNrTD5i43b"
      },
      "execution_count": null,
      "outputs": []
    }
  ]
}