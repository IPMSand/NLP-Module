{
  "nbformat": 4,
  "nbformat_minor": 0,
  "metadata": {
    "colab": {
      "provenance": [],
      "authorship_tag": "ABX9TyMKew3TXmsEsLibmM8VX2NN",
      "include_colab_link": true
    },
    "kernelspec": {
      "name": "python3",
      "display_name": "Python 3"
    },
    "language_info": {
      "name": "python"
    }
  },
  "cells": [
    {
      "cell_type": "markdown",
      "metadata": {
        "id": "view-in-github",
        "colab_type": "text"
      },
      "source": [
        "<a href=\"https://colab.research.google.com/github/IPMSand/NLP-Module/blob/main/first.ipynb\" target=\"_parent\"><img src=\"https://colab.research.google.com/assets/colab-badge.svg\" alt=\"Open In Colab\"/></a>"
      ]
    },
    {
      "cell_type": "code",
      "source": [
        "import nltk"
      ],
      "metadata": {
        "id": "q8szN1YRHrTT"
      },
      "execution_count": null,
      "outputs": []
    },
    {
      "cell_type": "code",
      "source": [
        "from nltk.tokenize import sent_tokenize, word_tokenize"
      ],
      "metadata": {
        "id": "AGtCzaGJH6Ru"
      },
      "execution_count": null,
      "outputs": []
    },
    {
      "cell_type": "code",
      "source": [
        "# Download resources if not already done\n",
        "nltk.download(\"punkt\")\n",
        "nltk.download(\"punkt_tab\")"
      ],
      "metadata": {
        "colab": {
          "base_uri": "https://localhost:8080/"
        },
        "id": "jLlWDcnwIDzy",
        "outputId": "3f447a1f-f5d5-41b4-cc1b-75011997bbe5"
      },
      "execution_count": null,
      "outputs": [
        {
          "output_type": "stream",
          "name": "stderr",
          "text": [
            "[nltk_data] Downloading package punkt to /root/nltk_data...\n",
            "[nltk_data]   Package punkt is already up-to-date!\n",
            "[nltk_data] Downloading package punkt_tab to /root/nltk_data...\n",
            "[nltk_data]   Unzipping tokenizers/punkt_tab.zip.\n"
          ]
        },
        {
          "output_type": "execute_result",
          "data": {
            "text/plain": [
              "True"
            ]
          },
          "metadata": {},
          "execution_count": 9
        }
      ]
    },
    {
      "cell_type": "code",
      "source": [
        "# Example sentence\n",
        "example_sentence = \"Python programmers often tend like programming in python because it's like english.\""
      ],
      "metadata": {
        "id": "Yqx3NffpITJ8"
      },
      "execution_count": null,
      "outputs": []
    },
    {
      "cell_type": "code",
      "source": [
        "#----\n",
        "# 1. Sentence Tokenization\n",
        "#---\n",
        "sentences = sent_tokenize(example_sentence)\n",
        "print(\"Sentence Tokens:\")\n",
        "for i, s in enumerate(sentences, 1):\n",
        "  print(f\"{i}:{s}\")"
      ],
      "metadata": {
        "colab": {
          "base_uri": "https://localhost:8080/"
        },
        "id": "ueczZMf1Itlj",
        "outputId": "51f635f9-e2e7-41c7-a159-b7c916046d69"
      },
      "execution_count": null,
      "outputs": [
        {
          "output_type": "stream",
          "name": "stdout",
          "text": [
            "Sentence Tokens:\n",
            "1:Python programmers often tend like programming in python because it's like english.\n"
          ]
        }
      ]
    },
    {
      "cell_type": "code",
      "source": [
        "#----\n",
        "# 2. Word Tokenization\n",
        "#---\n",
        "words =word_tokenize(example_sentence)\n",
        "print(\"\\nWord Tokens:\")\n",
        "print(words)"
      ],
      "metadata": {
        "colab": {
          "base_uri": "https://localhost:8080/"
        },
        "id": "E-cN3aXWJh0o",
        "outputId": "f4146dd3-3b95-4792-c25d-ac992d001656"
      },
      "execution_count": null,
      "outputs": [
        {
          "output_type": "stream",
          "name": "stdout",
          "text": [
            "\n",
            "Word Tokens:\n",
            "['Python', 'programmers', 'often', 'tend', 'like', 'programming', 'in', 'python', 'because', 'it', \"'s\", 'like', 'english', '.']\n"
          ]
        }
      ]
    },
    {
      "cell_type": "code",
      "source": [
        "# STEMMING\n",
        "from nltk.stem import PorterStemmer\n",
        "nltk.download(\"punkt\")"
      ],
      "metadata": {
        "colab": {
          "base_uri": "https://localhost:8080/"
        },
        "id": "mVOMh0e_J5r8",
        "outputId": "896f6e46-b0b2-4937-f19a-341ab920519e"
      },
      "execution_count": null,
      "outputs": [
        {
          "output_type": "stream",
          "name": "stderr",
          "text": [
            "[nltk_data] Downloading package punkt to /root/nltk_data...\n",
            "[nltk_data]   Package punkt is already up-to-date!\n"
          ]
        },
        {
          "output_type": "execute_result",
          "data": {
            "text/plain": [
              "True"
            ]
          },
          "metadata": {},
          "execution_count": 15
        }
      ]
    },
    {
      "cell_type": "code",
      "source": [
        "ps = PorterStemmer()\n",
        "example_words = [\"program\", \"programming\", \"programer\", \"programs\", \"programmed\"]"
      ],
      "metadata": {
        "id": "EhnAnzv_McE2"
      },
      "execution_count": null,
      "outputs": []
    },
    {
      "cell_type": "code",
      "source": [
        "# Proform stemming\n",
        "print(\"{0:20} {1:20}\".format(\"---Word---\", \"--Stem--\"))\n",
        "for word in example_words:\n",
        "  print(\"{0:20} {1:20}\".format(word, ps.stem(word)))"
      ],
      "metadata": {
        "colab": {
          "base_uri": "https://localhost:8080/"
        },
        "id": "ZORx3pI5NGPU",
        "outputId": "dba8698c-de3d-42aa-b5ed-88eda9b6b40c"
      },
      "execution_count": null,
      "outputs": [
        {
          "output_type": "stream",
          "name": "stdout",
          "text": [
            "---Word---           --Stem--            \n",
            "program              program             \n",
            "programming          program             \n",
            "programer            program             \n",
            "programs             program             \n",
            "programmed           program             \n"
          ]
        }
      ]
    },
    {
      "cell_type": "code",
      "source": [
        "example_words = words\n",
        "# Proform stemming - from previous word tokenization\n",
        "print(\"{0:20} {1:20}\".format(\"---Word---\", \"--Stem--\"))\n",
        "for word in example_words:\n",
        "  print(\"{0:20} {1:20}\".format(word, ps.stem(word)))"
      ],
      "metadata": {
        "colab": {
          "base_uri": "https://localhost:8080/"
        },
        "id": "M9k1BhEiN5AM",
        "outputId": "05022b92-24cf-48d3-c5b9-5638a551e1f8"
      },
      "execution_count": null,
      "outputs": [
        {
          "output_type": "stream",
          "name": "stdout",
          "text": [
            "---Word---           --Stem--            \n",
            "Python               python              \n",
            "programmers          programm            \n",
            "often                often               \n",
            "tend                 tend                \n",
            "like                 like                \n",
            "programming          program             \n",
            "in                   in                  \n",
            "python               python              \n",
            "because              becaus              \n",
            "it                   it                  \n",
            "'s                   's                  \n",
            "like                 like                \n",
            "english              english             \n",
            ".                    .                   \n"
          ]
        }
      ]
    },
    {
      "cell_type": "code",
      "source": [
        "# LEMMETIZATION\n",
        "from nltk.stem import WordNetLemmatizer"
      ],
      "metadata": {
        "id": "a5kUpDdrOUE0"
      },
      "execution_count": null,
      "outputs": []
    },
    {
      "cell_type": "code",
      "source": [
        "nltk.download(\"wordnet\")"
      ],
      "metadata": {
        "colab": {
          "base_uri": "https://localhost:8080/"
        },
        "id": "-jtEAHI3PfmN",
        "outputId": "9d1fdab3-67fc-4736-da37-af6991aebe6f"
      },
      "execution_count": null,
      "outputs": [
        {
          "output_type": "stream",
          "name": "stderr",
          "text": [
            "[nltk_data] Downloading package wordnet to /root/nltk_data...\n"
          ]
        },
        {
          "output_type": "execute_result",
          "data": {
            "text/plain": [
              "True"
            ]
          },
          "metadata": {},
          "execution_count": 23
        }
      ]
    },
    {
      "cell_type": "code",
      "source": [
        "nltk.download(\"omw-1.4\")"
      ],
      "metadata": {
        "colab": {
          "base_uri": "https://localhost:8080/"
        },
        "id": "ydpoHBiFPknU",
        "outputId": "910da4ec-3713-4821-b31e-d7bf7d6a894d"
      },
      "execution_count": null,
      "outputs": [
        {
          "output_type": "stream",
          "name": "stderr",
          "text": [
            "[nltk_data] Downloading package omw-1.4 to /root/nltk_data...\n"
          ]
        },
        {
          "output_type": "execute_result",
          "data": {
            "text/plain": [
              "True"
            ]
          },
          "metadata": {},
          "execution_count": 25
        }
      ]
    },
    {
      "cell_type": "code",
      "source": [
        "wnl =WordNetLemmatizer()"
      ],
      "metadata": {
        "id": "NCx-hn9DPp11"
      },
      "execution_count": null,
      "outputs": []
    },
    {
      "cell_type": "code",
      "source": [
        "# Example inflections to reduce\n",
        "example_words = [\"program\", \"programming\", \"programer\", \"programs\", \"programmed\", \"ate\", \"told\", ]"
      ],
      "metadata": {
        "id": "figWAtGGPyEw"
      },
      "execution_count": null,
      "outputs": []
    },
    {
      "cell_type": "code",
      "source": [
        "# Proform Lemmatization\n",
        "print(\"{0:20} {1:20}\".format(\"---Word---\", \"--Lemma--\"))\n",
        "for word in example_words:\n",
        "  print(\"{0:20}{1:20}\".format(word, wnl.lemmatize(word, pos = \"v\")))"
      ],
      "metadata": {
        "colab": {
          "base_uri": "https://localhost:8080/"
        },
        "id": "Ujunnz3yP8H4",
        "outputId": "3bf52bb9-27dc-4016-f69c-247439a67d16"
      },
      "execution_count": null,
      "outputs": [
        {
          "output_type": "stream",
          "name": "stdout",
          "text": [
            "---Word---           --Lemma--           \n",
            "program             program             \n",
            "programming         program             \n",
            "programer           programer           \n",
            "programs            program             \n",
            "programmed          program             \n",
            "ate                 eat                 \n",
            "told                tell                \n"
          ]
        }
      ]
    },
    {
      "cell_type": "code",
      "source": [],
      "metadata": {
        "id": "JXElwC2EQ-cq"
      },
      "execution_count": null,
      "outputs": []
    }
  ]
}