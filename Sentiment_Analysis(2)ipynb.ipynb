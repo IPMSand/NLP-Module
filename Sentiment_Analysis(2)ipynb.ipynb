{
  "nbformat": 4,
  "nbformat_minor": 0,
  "metadata": {
    "colab": {
      "provenance": [],
      "authorship_tag": "ABX9TyOrqkoxUlj1u6d2z5YaDmfj",
      "include_colab_link": true
    },
    "kernelspec": {
      "name": "python3",
      "display_name": "Python 3"
    },
    "language_info": {
      "name": "python"
    }
  },
  "cells": [
    {
      "cell_type": "markdown",
      "metadata": {
        "id": "view-in-github",
        "colab_type": "text"
      },
      "source": [
        "<a href=\"https://colab.research.google.com/github/IPMSand/NLP-Module/blob/main/Sentiment_Analysis(2)ipynb.ipynb\" target=\"_parent\"><img src=\"https://colab.research.google.com/assets/colab-badge.svg\" alt=\"Open In Colab\"/></a>"
      ]
    },
    {
      "cell_type": "markdown",
      "source": [
        "# Sentiment Analysis"
      ],
      "metadata": {
        "id": "qNBcQUjiTqin"
      }
    },
    {
      "cell_type": "code",
      "source": [
        "import re"
      ],
      "metadata": {
        "id": "vT6geMM6X9zS"
      },
      "execution_count": 5,
      "outputs": []
    },
    {
      "cell_type": "code",
      "execution_count": 1,
      "metadata": {
        "id": "mF6PLHc9S_1o"
      },
      "outputs": [],
      "source": [
        "# Lexciob:word -> sentiment score(positive > 0, negative <0)\n",
        "lexicon = {\n",
        "    'good': 1.0,\n",
        "    'bad': -1.5,\n",
        "    'terrible': -1.5,\n",
        "    'love': 2.0,\n",
        "    'hate': -2.0,\n",
        "    'happy': 1.5,\n",
        "    'sad': -1.5,\n",
        "\n",
        "}\n"
      ]
    },
    {
      "cell_type": "code",
      "source": [
        "# Negation Words\n",
        "negations =   {'not','no', 'never','none'}"
      ],
      "metadata": {
        "id": "D7d2fGtiUgmC"
      },
      "execution_count": 2,
      "outputs": []
    },
    {
      "cell_type": "code",
      "source": [
        "def preprocess_text(text):\n",
        "  \"\"\"\n",
        "  Preprocesses text by converting to lowercase and tokenizing into words.\n",
        "  Uses re.findall as simple tokenizer to extract words.\n",
        "  \"\"\"\n",
        "  text = text.lower()\n",
        "  #\n",
        "  words = re.findall(r'\\b\\w+\\b', text)\n",
        "  return words\n",
        "\n",
        "\n",
        "def lexicon_sentiment(text):\n",
        "  \"\"\"\n",
        "  Performs lexicon-basedd sentiment analysis with negation handling.\n",
        "  Returns sentiment based on summed word scores.\n",
        "  \"\"\"\n",
        "  words = preprocess_text(text)\n",
        "  score = 0.0\n",
        "  negate = False\n",
        "  for word in words:\n",
        "    if word in negations:\n",
        "      negate = True # set flag to negate next sentiment word\n",
        "      continue\n",
        "    if word in lexicon:\n",
        "      word_score = lexicon[word]\n",
        "      if negate: # if negate is True\n",
        "        word_score = -word_score # flip the polarity of the score\n",
        "        negate = False\n",
        "      score += word_score\n",
        "  if score > 0:\n",
        "    return 'positive'\n",
        "  elif score < 0:\n",
        "    return 'negative'\n",
        "  else:\n",
        "    return 'neutral'"
      ],
      "metadata": {
        "id": "socW-SJoUs2M"
      },
      "execution_count": 6,
      "outputs": []
    },
    {
      "cell_type": "code",
      "source": [
        "# Example Usage\n",
        "text = \"I love this product, it's not bad at all!\"\n",
        "print(lexicon_sentiment(text)) # output : Positive"
      ],
      "metadata": {
        "colab": {
          "base_uri": "https://localhost:8080/"
        },
        "id": "y6Jgk85KXcvD",
        "outputId": "9dcc0938-c2b1-4507-b067-5454d468bbcc"
      },
      "execution_count": 7,
      "outputs": [
        {
          "output_type": "stream",
          "name": "stdout",
          "text": [
            "positive\n"
          ]
        }
      ]
    },
    {
      "cell_type": "code",
      "source": [],
      "metadata": {
        "id": "SZalMNc-XubC"
      },
      "execution_count": null,
      "outputs": []
    }
  ]
}