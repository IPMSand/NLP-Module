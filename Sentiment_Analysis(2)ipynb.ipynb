{
  "nbformat": 4,
  "nbformat_minor": 0,
  "metadata": {
    "colab": {
      "provenance": [],
      "authorship_tag": "ABX9TyNP2nQQkb4d7z7AE/4xCt7r",
      "include_colab_link": true
    },
    "kernelspec": {
      "name": "python3",
      "display_name": "Python 3"
    },
    "language_info": {
      "name": "python"
    }
  },
  "cells": [
    {
      "cell_type": "markdown",
      "metadata": {
        "id": "view-in-github",
        "colab_type": "text"
      },
      "source": [
        "<a href=\"https://colab.research.google.com/github/IPMSand/NLP-Module/blob/main/Sentiment_Analysis(2)ipynb.ipynb\" target=\"_parent\"><img src=\"https://colab.research.google.com/assets/colab-badge.svg\" alt=\"Open In Colab\"/></a>"
      ]
    },
    {
      "cell_type": "markdown",
      "source": [
        "# Sentiment Analysis"
      ],
      "metadata": {
        "id": "qNBcQUjiTqin"
      }
    },
    {
      "cell_type": "markdown",
      "source": [
        "# custom define"
      ],
      "metadata": {
        "id": "zue5iE52eLMT"
      }
    },
    {
      "cell_type": "code",
      "source": [
        "import re"
      ],
      "metadata": {
        "id": "vT6geMM6X9zS"
      },
      "execution_count": 5,
      "outputs": []
    },
    {
      "cell_type": "code",
      "execution_count": 1,
      "metadata": {
        "id": "mF6PLHc9S_1o"
      },
      "outputs": [],
      "source": [
        "# Lexciob:word -> sentiment score(positive > 0, negative <0)\n",
        "lexicon = {\n",
        "    'good': 1.0,\n",
        "    'bad': -1.5,\n",
        "    'terrible': -1.5,\n",
        "    'love': 2.0,\n",
        "    'hate': -2.0,\n",
        "    'happy': 1.5,\n",
        "    'sad': -1.5,\n",
        "\n",
        "}\n"
      ]
    },
    {
      "cell_type": "code",
      "source": [
        "# Negation Words\n",
        "negations =   {'not','no', 'never','none'}"
      ],
      "metadata": {
        "id": "D7d2fGtiUgmC"
      },
      "execution_count": 2,
      "outputs": []
    },
    {
      "cell_type": "code",
      "source": [
        "def preprocess_text(text):\n",
        "  \"\"\"\n",
        "  Preprocesses text by converting to lowercase and tokenizing into words.\n",
        "  Uses re.findall as simple tokenizer to extract words.\n",
        "  \"\"\"\n",
        "  text = text.lower()\n",
        "  #\n",
        "  words = re.findall(r'\\b\\w+\\b', text)\n",
        "  return words\n",
        "\n",
        "\n",
        "def lexicon_sentiment(text):\n",
        "  \"\"\"\n",
        "  Performs lexicon-basedd sentiment analysis with negation handling.\n",
        "  Returns sentiment based on summed word scores.\n",
        "  \"\"\"\n",
        "  words = preprocess_text(text)\n",
        "  score = 0.0\n",
        "  negate = False\n",
        "  for word in words:\n",
        "    if word in negations:\n",
        "      negate = True # set flag to negate next sentiment word\n",
        "      continue\n",
        "    if word in lexicon:\n",
        "      word_score = lexicon[word]\n",
        "      if negate: # if negate is True\n",
        "        word_score = -word_score # flip the polarity of the score\n",
        "        negate = False\n",
        "      score += word_score\n",
        "  if score > 0:\n",
        "    return 'positive'\n",
        "  elif score < 0:\n",
        "    return 'negative'\n",
        "  else:\n",
        "    return 'neutral'"
      ],
      "metadata": {
        "id": "socW-SJoUs2M"
      },
      "execution_count": 6,
      "outputs": []
    },
    {
      "cell_type": "code",
      "source": [
        "# Example Usage\n",
        "text = \"I love this product, it's not bad at all!\"\n",
        "print(lexicon_sentiment(text)) # output : Positive"
      ],
      "metadata": {
        "colab": {
          "base_uri": "https://localhost:8080/"
        },
        "id": "y6Jgk85KXcvD",
        "outputId": "d4e0fb37-b0d4-43ec-ca40-45f909a8b0e1"
      },
      "execution_count": 12,
      "outputs": [
        {
          "output_type": "stream",
          "name": "stdout",
          "text": [
            "positive\n"
          ]
        }
      ]
    },
    {
      "cell_type": "code",
      "source": [
        "# Example Usage 2\n",
        "text = \"I love this product, it's not bad at all!. I thought I will hate it really badly when I saw it's teribble state, Hate it!!\"\n",
        "print(lexicon_sentiment(text)) # Output"
      ],
      "metadata": {
        "colab": {
          "base_uri": "https://localhost:8080/"
        },
        "outputId": "df79de84-9796-4419-84f7-6bed902e2be8",
        "id": "CL0uOuzSZYsA"
      },
      "execution_count": 13,
      "outputs": [
        {
          "output_type": "stream",
          "name": "stdout",
          "text": [
            "negative\n"
          ]
        }
      ]
    },
    {
      "cell_type": "markdown",
      "source": [
        "# Pre Built"
      ],
      "metadata": {
        "id": "2pWv7nqDZxnW"
      }
    },
    {
      "cell_type": "code",
      "source": [
        "pip install vaderSentiment"
      ],
      "metadata": {
        "colab": {
          "base_uri": "https://localhost:8080/"
        },
        "id": "SZalMNc-XubC",
        "outputId": "61019d6a-15f5-4e8b-bebd-4f5650f7e9aa"
      },
      "execution_count": 22,
      "outputs": [
        {
          "output_type": "stream",
          "name": "stdout",
          "text": [
            "Collecting vaderSentiment\n",
            "  Downloading vaderSentiment-3.3.2-py2.py3-none-any.whl.metadata (572 bytes)\n",
            "Requirement already satisfied: requests in /usr/local/lib/python3.12/dist-packages (from vaderSentiment) (2.32.4)\n",
            "Requirement already satisfied: charset_normalizer<4,>=2 in /usr/local/lib/python3.12/dist-packages (from requests->vaderSentiment) (3.4.3)\n",
            "Requirement already satisfied: idna<4,>=2.5 in /usr/local/lib/python3.12/dist-packages (from requests->vaderSentiment) (3.10)\n",
            "Requirement already satisfied: urllib3<3,>=1.21.1 in /usr/local/lib/python3.12/dist-packages (from requests->vaderSentiment) (2.5.0)\n",
            "Requirement already satisfied: certifi>=2017.4.17 in /usr/local/lib/python3.12/dist-packages (from requests->vaderSentiment) (2025.8.3)\n",
            "Downloading vaderSentiment-3.3.2-py2.py3-none-any.whl (125 kB)\n",
            "\u001b[?25l   \u001b[90m━━━━━━━━━━━━━━━━━━━━━━━━━━━━━━━━━━━━━━━━\u001b[0m \u001b[32m0.0/126.0 kB\u001b[0m \u001b[31m?\u001b[0m eta \u001b[36m-:--:--\u001b[0m\r\u001b[2K   \u001b[90m━━━━━━━━━━━━━━━━━━━━━━━━━━━━━━━━━━━━━━━━\u001b[0m \u001b[32m126.0/126.0 kB\u001b[0m \u001b[31m3.5 MB/s\u001b[0m eta \u001b[36m0:00:00\u001b[0m\n",
            "\u001b[?25hInstalling collected packages: vaderSentiment\n",
            "Successfully installed vaderSentiment-3.3.2\n"
          ]
        }
      ]
    },
    {
      "cell_type": "code",
      "source": [
        "from vaderSentiment.vaderSentiment import SentimentIntensityAnalyzer\n",
        "# Initialize VADER\n",
        "analyzer  = SentimentIntensityAnalyzer()"
      ],
      "metadata": {
        "id": "hI8jMrVTb0dR"
      },
      "execution_count": 23,
      "outputs": []
    },
    {
      "cell_type": "code",
      "source": [
        "# Use VASER\"S lexicon\n",
        "def lexicon_sentiment_vader(text):\n",
        "  scores = analyzer.polarity_scores(text)\n",
        "  compound = scores['compound']\n",
        "  if compound >= 0.05:\n",
        "    return 'positive',compound\n",
        "  elif compound <= -0.05:\n",
        "    return 'negative', compound\n",
        "  else:\n",
        "    return 'neutral', compound\n"
      ],
      "metadata": {
        "id": "uohW1Tp0aAja"
      },
      "execution_count": 24,
      "outputs": []
    },
    {
      "cell_type": "code",
      "source": [
        "## Example Usage\n",
        "texts = [\"I love this product, i thought I will hate it.\",\n",
        "         \"He is a cute bad boy\",\n",
        "         \"Wow That's so sick!!\",\n",
        "         \"wow That's so sick. Hate it\",\n",
        "         \"ok, i guess, i will ses it later\"\n",
        "         ]\n",
        "for text in texts:\n",
        "  sentiment, score = lexicon_sentiment_vader(text)\n",
        "  print(f\"Text: {text}\\nSentiment: {sentiment}, Score: {score}\\n\")"
      ],
      "metadata": {
        "colab": {
          "base_uri": "https://localhost:8080/"
        },
        "id": "PrRdnu7laIzA",
        "outputId": "de8aefc7-ab36-4c75-b660-e7d962af5f45"
      },
      "execution_count": 35,
      "outputs": [
        {
          "output_type": "stream",
          "name": "stdout",
          "text": [
            "Text: I love this product, i thought I will hate it.\n",
            "Sentiment: positive, Score: 0.128\n",
            "\n",
            "Text: He is a cute bad boy\n",
            "Sentiment: negative, Score: -0.128\n",
            "\n",
            "Text: Wow That's so sick!!\n",
            "Sentiment: positive, Score: 0.2001\n",
            "\n",
            "Text: wow That's so sick. Hate it\n",
            "Sentiment: negative, Score: -0.5819\n",
            "\n",
            "Text: ok, i guess, i will ses it later\n",
            "Sentiment: neutral, Score: 0.0\n",
            "\n"
          ]
        }
      ]
    },
    {
      "cell_type": "code",
      "source": [],
      "metadata": {
        "id": "WmLpnMv3dDmp"
      },
      "execution_count": null,
      "outputs": []
    }
  ]
}