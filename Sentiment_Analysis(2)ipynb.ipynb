{
  "nbformat": 4,
  "nbformat_minor": 0,
  "metadata": {
    "colab": {
      "provenance": [],
      "authorship_tag": "ABX9TyOeu5MKgltKoWgdojrZ1V3Y",
      "include_colab_link": true
    },
    "kernelspec": {
      "name": "python3",
      "display_name": "Python 3"
    },
    "language_info": {
      "name": "python"
    }
  },
  "cells": [
    {
      "cell_type": "markdown",
      "metadata": {
        "id": "view-in-github",
        "colab_type": "text"
      },
      "source": [
        "<a href=\"https://colab.research.google.com/github/IPMSand/NLP-Module/blob/main/Sentiment_Analysis(2)ipynb.ipynb\" target=\"_parent\"><img src=\"https://colab.research.google.com/assets/colab-badge.svg\" alt=\"Open In Colab\"/></a>"
      ]
    },
    {
      "cell_type": "markdown",
      "source": [
        "# Sentiment Analysis"
      ],
      "metadata": {
        "id": "qNBcQUjiTqin"
      }
    },
    {
      "cell_type": "code",
      "source": [
        "import re"
      ],
      "metadata": {
        "id": "vT6geMM6X9zS"
      },
      "execution_count": 5,
      "outputs": []
    },
    {
      "cell_type": "code",
      "execution_count": 1,
      "metadata": {
        "id": "mF6PLHc9S_1o"
      },
      "outputs": [],
      "source": [
        "# Lexciob:word -> sentiment score(positive > 0, negative <0)\n",
        "lexicon = {\n",
        "    'good': 1.0,\n",
        "    'bad': -1.5,\n",
        "    'terrible': -1.5,\n",
        "    'love': 2.0,\n",
        "    'hate': -2.0,\n",
        "    'happy': 1.5,\n",
        "    'sad': -1.5,\n",
        "\n",
        "}\n"
      ]
    },
    {
      "cell_type": "code",
      "source": [
        "# Negation Words\n",
        "negations =   {'not','no', 'never','none'}"
      ],
      "metadata": {
        "id": "D7d2fGtiUgmC"
      },
      "execution_count": 2,
      "outputs": []
    },
    {
      "cell_type": "code",
      "source": [
        "def preprocess_text(text):\n",
        "  \"\"\"\n",
        "  Preprocesses text by converting to lowercase and tokenizing into words.\n",
        "  Uses re.findall as simple tokenizer to extract words.\n",
        "  \"\"\"\n",
        "  text = text.lower()\n",
        "  #\n",
        "  words = re.findall(r'\\b\\w+\\b', text)\n",
        "  return words\n",
        "\n",
        "\n",
        "def lexicon_sentiment(text):\n",
        "  \"\"\"\n",
        "  Performs lexicon-basedd sentiment analysis with negation handling.\n",
        "  Returns sentiment based on summed word scores.\n",
        "  \"\"\"\n",
        "  words = preprocess_text(text)\n",
        "  score = 0.0\n",
        "  negate = False\n",
        "  for word in words:\n",
        "    if word in negations:\n",
        "      negate = True # set flag to negate next sentiment word\n",
        "      continue\n",
        "    if word in lexicon:\n",
        "      word_score = lexicon[word]\n",
        "      if negate: # if negate is True\n",
        "        word_score = -word_score # flip the polarity of the score\n",
        "        negate = False\n",
        "      score += word_score\n",
        "  if score > 0:\n",
        "    return 'positive'\n",
        "  elif score < 0:\n",
        "    return 'negative'\n",
        "  else:\n",
        "    return 'neutral'"
      ],
      "metadata": {
        "id": "socW-SJoUs2M"
      },
      "execution_count": 6,
      "outputs": []
    },
    {
      "cell_type": "code",
      "source": [
        "# Example Usage\n",
        "text = \"I love this product, it's not bad at all!\"\n",
        "print(lexicon_sentiment(text)) # output : Positive"
      ],
      "metadata": {
        "colab": {
          "base_uri": "https://localhost:8080/"
        },
        "id": "y6Jgk85KXcvD",
        "outputId": "d4e0fb37-b0d4-43ec-ca40-45f909a8b0e1"
      },
      "execution_count": 12,
      "outputs": [
        {
          "output_type": "stream",
          "name": "stdout",
          "text": [
            "positive\n"
          ]
        }
      ]
    },
    {
      "cell_type": "code",
      "source": [
        "# Example Usage 2\n",
        "text = \"I love this product, it's not bad at all!. I thought I will hate it really badly when I saw it's teribble state, Hate it!!\"\n",
        "print(lexicon_sentiment(text)) # Output"
      ],
      "metadata": {
        "colab": {
          "base_uri": "https://localhost:8080/"
        },
        "outputId": "df79de84-9796-4419-84f7-6bed902e2be8",
        "id": "CL0uOuzSZYsA"
      },
      "execution_count": 13,
      "outputs": [
        {
          "output_type": "stream",
          "name": "stdout",
          "text": [
            "negative\n"
          ]
        }
      ]
    },
    {
      "cell_type": "markdown",
      "source": [
        "# xx"
      ],
      "metadata": {
        "id": "2pWv7nqDZxnW"
      }
    },
    {
      "cell_type": "code",
      "source": [
        "import"
      ],
      "metadata": {
        "id": "SZalMNc-XubC"
      },
      "execution_count": 16,
      "outputs": []
    },
    {
      "cell_type": "code",
      "source": [
        "from vaderSentiment.vaderSentiment import SentimentIntensityAnalyzer\n",
        "# Initialize VADER\n",
        "analyzer  = SentimentIntensityAnalyzer()"
      ],
      "metadata": {
        "colab": {
          "base_uri": "https://localhost:8080/",
          "height": 350
        },
        "id": "hI8jMrVTb0dR",
        "outputId": "a6bc076f-2a92-4fbc-a7c6-897f4aa92deb"
      },
      "execution_count": 18,
      "outputs": [
        {
          "output_type": "error",
          "ename": "ModuleNotFoundError",
          "evalue": "No module named 'vaderSentiment'",
          "traceback": [
            "\u001b[0;31m---------------------------------------------------------------------------\u001b[0m",
            "\u001b[0;31mModuleNotFoundError\u001b[0m                       Traceback (most recent call last)",
            "\u001b[0;32m/tmp/ipython-input-667164132.py\u001b[0m in \u001b[0;36m<cell line: 0>\u001b[0;34m()\u001b[0m\n\u001b[0;32m----> 1\u001b[0;31m \u001b[0;32mfrom\u001b[0m \u001b[0mvaderSentiment\u001b[0m\u001b[0;34m.\u001b[0m\u001b[0mvaderSentiment\u001b[0m \u001b[0;32mimport\u001b[0m \u001b[0mSentimentIntensityAnalyzer\u001b[0m\u001b[0;34m\u001b[0m\u001b[0;34m\u001b[0m\u001b[0m\n\u001b[0m\u001b[1;32m      2\u001b[0m \u001b[0;31m# Initialize VADER\u001b[0m\u001b[0;34m\u001b[0m\u001b[0;34m\u001b[0m\u001b[0m\n\u001b[1;32m      3\u001b[0m \u001b[0manalyzer\u001b[0m  \u001b[0;34m=\u001b[0m \u001b[0mSentimentIntensityAnalyzer\u001b[0m\u001b[0;34m(\u001b[0m\u001b[0;34m)\u001b[0m\u001b[0;34m\u001b[0m\u001b[0;34m\u001b[0m\u001b[0m\n",
            "\u001b[0;31mModuleNotFoundError\u001b[0m: No module named 'vaderSentiment'",
            "",
            "\u001b[0;31m---------------------------------------------------------------------------\u001b[0;32m\nNOTE: If your import is failing due to a missing package, you can\nmanually install dependencies using either !pip or !apt.\n\nTo view examples of installing some common dependencies, click the\n\"Open Examples\" button below.\n\u001b[0;31m---------------------------------------------------------------------------\u001b[0m\n"
          ],
          "errorDetails": {
            "actions": [
              {
                "action": "open_url",
                "actionText": "Open Examples",
                "url": "/notebooks/snippets/importing_libraries.ipynb"
              }
            ]
          }
        }
      ]
    },
    {
      "cell_type": "code",
      "source": [
        "# Use VASER\"S lexicon\n",
        "def lexicon_sentiment_vader(text):\n",
        "  scores = analyzer.polarity_scores(text)\n",
        "  compound = scores['compound']\n",
        "  if compound >= 0.05:\n",
        "    return 'positive',compound\n",
        "  elif compound <= -0.05:\n",
        "    return 'negative', compound\n",
        "  else:\n",
        "    return 'neutral', compound\n"
      ],
      "metadata": {
        "colab": {
          "base_uri": "https://localhost:8080/",
          "height": 385
        },
        "id": "uohW1Tp0aAja",
        "outputId": "ebb810c2-bf2f-42c2-ad71-da13b16068d1"
      },
      "execution_count": null,
      "outputs": [
        {
          "output_type": "error",
          "ename": "ModuleNotFoundError",
          "evalue": "No module named 'vaderSentiment'",
          "traceback": [
            "\u001b[0;31m---------------------------------------------------------------------------\u001b[0m",
            "\u001b[0;31mModuleNotFoundError\u001b[0m                       Traceback (most recent call last)",
            "\u001b[0;32m/tmp/ipython-input-3427122439.py\u001b[0m in \u001b[0;36m<cell line: 0>\u001b[0;34m()\u001b[0m\n\u001b[0;32m----> 1\u001b[0;31m \u001b[0;32mfrom\u001b[0m \u001b[0mvaderSentiment\u001b[0m\u001b[0;34m.\u001b[0m\u001b[0mvaderSentiment\u001b[0m \u001b[0;32mimport\u001b[0m \u001b[0mSentimentIntensityAnalyzer\u001b[0m\u001b[0;34m\u001b[0m\u001b[0;34m\u001b[0m\u001b[0m\n\u001b[0m\u001b[1;32m      2\u001b[0m \u001b[0;31m# Initialize VADER\u001b[0m\u001b[0;34m\u001b[0m\u001b[0;34m\u001b[0m\u001b[0m\n\u001b[1;32m      3\u001b[0m \u001b[0manalyzer\u001b[0m  \u001b[0;34m=\u001b[0m \u001b[0mSentimentIntensityAnalyzer\u001b[0m\u001b[0;34m(\u001b[0m\u001b[0;34m)\u001b[0m\u001b[0;34m\u001b[0m\u001b[0;34m\u001b[0m\u001b[0m\n\u001b[1;32m      4\u001b[0m \u001b[0;34m\u001b[0m\u001b[0m\n\u001b[1;32m      5\u001b[0m \u001b[0;31m# Use VASER\"S lexicon\u001b[0m\u001b[0;34m\u001b[0m\u001b[0;34m\u001b[0m\u001b[0m\n",
            "\u001b[0;31mModuleNotFoundError\u001b[0m: No module named 'vaderSentiment'",
            "",
            "\u001b[0;31m---------------------------------------------------------------------------\u001b[0;32m\nNOTE: If your import is failing due to a missing package, you can\nmanually install dependencies using either !pip or !apt.\n\nTo view examples of installing some common dependencies, click the\n\"Open Examples\" button below.\n\u001b[0;31m---------------------------------------------------------------------------\u001b[0m\n"
          ],
          "errorDetails": {
            "actions": [
              {
                "action": "open_url",
                "actionText": "Open Examples",
                "url": "/notebooks/snippets/importing_libraries.ipynb"
              }
            ]
          }
        }
      ]
    },
    {
      "cell_type": "code",
      "source": [
        "## Example Usage\n",
        "text = [\"I love this product , i\"]\n",
        "for text in texts:\n",
        "  sentiment, score = lexicon_sentiment_vader(text)\n",
        "  print(f\"Text: {text}\\nSentiment: {sentiment}, Score: {score}\\n\")"
      ],
      "metadata": {
        "id": "PrRdnu7laIzA"
      },
      "execution_count": null,
      "outputs": []
    }
  ]
}